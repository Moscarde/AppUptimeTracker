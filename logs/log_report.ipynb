{
 "cells": [
  {
   "cell_type": "code",
   "execution_count": 1,
   "metadata": {},
   "outputs": [],
   "source": [
    "import pandas as pd\n",
    "from datetime import datetime, timedelta"
   ]
  },
  {
   "cell_type": "code",
   "execution_count": 2,
   "metadata": {},
   "outputs": [
    {
     "data": {
      "text/html": [
       "<div>\n",
       "<style scoped>\n",
       "    .dataframe tbody tr th:only-of-type {\n",
       "        vertical-align: middle;\n",
       "    }\n",
       "\n",
       "    .dataframe tbody tr th {\n",
       "        vertical-align: top;\n",
       "    }\n",
       "\n",
       "    .dataframe thead th {\n",
       "        text-align: right;\n",
       "    }\n",
       "</style>\n",
       "<table border=\"1\" class=\"dataframe\">\n",
       "  <thead>\n",
       "    <tr style=\"text-align: right;\">\n",
       "      <th></th>\n",
       "      <th>timestamp</th>\n",
       "      <th>app_name</th>\n",
       "      <th>minutes_away</th>\n",
       "    </tr>\n",
       "  </thead>\n",
       "  <tbody>\n",
       "    <tr>\n",
       "      <th>0</th>\n",
       "      <td>2023-11-06 07:45:41</td>\n",
       "      <td>Feed | LinkedIn — Mozilla Firefox</td>\n",
       "      <td>0</td>\n",
       "    </tr>\n",
       "    <tr>\n",
       "      <th>1</th>\n",
       "      <td>2023-11-06 07:45:56</td>\n",
       "      <td>Feed | LinkedIn — Mozilla Firefox</td>\n",
       "      <td>0</td>\n",
       "    </tr>\n",
       "    <tr>\n",
       "      <th>2</th>\n",
       "      <td>2023-11-06 07:46:11</td>\n",
       "      <td>Feed | LinkedIn — Mozilla Firefox</td>\n",
       "      <td>0</td>\n",
       "    </tr>\n",
       "    <tr>\n",
       "      <th>3</th>\n",
       "      <td>2023-11-06 07:46:27</td>\n",
       "      <td>Feed | LinkedIn — Mozilla Firefox</td>\n",
       "      <td>0</td>\n",
       "    </tr>\n",
       "    <tr>\n",
       "      <th>4</th>\n",
       "      <td>2023-11-06 07:46:42</td>\n",
       "      <td>Feed | LinkedIn — Mozilla Firefox</td>\n",
       "      <td>0</td>\n",
       "    </tr>\n",
       "  </tbody>\n",
       "</table>\n",
       "</div>"
      ],
      "text/plain": [
       "            timestamp                           app_name  minutes_away\n",
       "0 2023-11-06 07:45:41  Feed | LinkedIn — Mozilla Firefox             0\n",
       "1 2023-11-06 07:45:56  Feed | LinkedIn — Mozilla Firefox             0\n",
       "2 2023-11-06 07:46:11  Feed | LinkedIn — Mozilla Firefox             0\n",
       "3 2023-11-06 07:46:27  Feed | LinkedIn — Mozilla Firefox             0\n",
       "4 2023-11-06 07:46:42  Feed | LinkedIn — Mozilla Firefox             0"
      ]
     },
     "execution_count": 2,
     "metadata": {},
     "output_type": "execute_result"
    }
   ],
   "source": [
    "data = pd.read_csv(\"2023-11-06.csv\", parse_dates=[\"timestamp\"])\n",
    "data.head(5)\n"
   ]
  },
  {
   "cell_type": "code",
   "execution_count": 3,
   "metadata": {},
   "outputs": [
    {
     "data": {
      "text/html": [
       "<div>\n",
       "<style scoped>\n",
       "    .dataframe tbody tr th:only-of-type {\n",
       "        vertical-align: middle;\n",
       "    }\n",
       "\n",
       "    .dataframe tbody tr th {\n",
       "        vertical-align: top;\n",
       "    }\n",
       "\n",
       "    .dataframe thead th {\n",
       "        text-align: right;\n",
       "    }\n",
       "</style>\n",
       "<table border=\"1\" class=\"dataframe\">\n",
       "  <thead>\n",
       "    <tr style=\"text-align: right;\">\n",
       "      <th></th>\n",
       "      <th>timestamp</th>\n",
       "      <th>window_title</th>\n",
       "      <th>minutes_away</th>\n",
       "      <th>app_name</th>\n",
       "    </tr>\n",
       "  </thead>\n",
       "  <tbody>\n",
       "    <tr>\n",
       "      <th>1511</th>\n",
       "      <td>2023-11-06 17:50:49</td>\n",
       "      <td>.ipynb_checkpoints</td>\n",
       "      <td>0</td>\n",
       "      <td>.ipynb_checkpoints</td>\n",
       "    </tr>\n",
       "    <tr>\n",
       "      <th>1466</th>\n",
       "      <td>2023-11-06 17:48:17</td>\n",
       "      <td>1,275 items recycled</td>\n",
       "      <td>0</td>\n",
       "      <td>1,275 items recycled</td>\n",
       "    </tr>\n",
       "    <tr>\n",
       "      <th>1467</th>\n",
       "      <td>2023-11-06 17:48:17</td>\n",
       "      <td>1,360 items recycled</td>\n",
       "      <td>0</td>\n",
       "      <td>1,360 items recycled</td>\n",
       "    </tr>\n",
       "    <tr>\n",
       "      <th>1464</th>\n",
       "      <td>2023-11-06 17:48:17</td>\n",
       "      <td>49% complete</td>\n",
       "      <td>0</td>\n",
       "      <td>49% complete</td>\n",
       "    </tr>\n",
       "    <tr>\n",
       "      <th>1463</th>\n",
       "      <td>2023-11-06 17:48:17</td>\n",
       "      <td>680 items recycled</td>\n",
       "      <td>0</td>\n",
       "      <td>680 items recycled</td>\n",
       "    </tr>\n",
       "  </tbody>\n",
       "</table>\n",
       "</div>"
      ],
      "text/plain": [
       "               timestamp          window_title  minutes_away  \\\n",
       "1511 2023-11-06 17:50:49    .ipynb_checkpoints             0   \n",
       "1466 2023-11-06 17:48:17  1,275 items recycled             0   \n",
       "1467 2023-11-06 17:48:17  1,360 items recycled             0   \n",
       "1464 2023-11-06 17:48:17          49% complete             0   \n",
       "1463 2023-11-06 17:48:17    680 items recycled             0   \n",
       "\n",
       "                  app_name  \n",
       "1511    .ipynb_checkpoints  \n",
       "1466  1,275 items recycled  \n",
       "1467  1,360 items recycled  \n",
       "1464          49% complete  \n",
       "1463    680 items recycled  "
      ]
     },
     "execution_count": 3,
     "metadata": {},
     "output_type": "execute_result"
    }
   ],
   "source": [
    "data['name'] = data['app_name'].map(lambda x: x.split(' — ')[-1].split(' - ')[-1])\n",
    "data.columns = ['timestamp', 'window_title', 'minutes_away', 'app_name']\n",
    "data = data.sort_values(['app_name', 'timestamp'])\n",
    "data.head(5)"
   ]
  },
  {
   "cell_type": "code",
   "execution_count": 15,
   "metadata": {},
   "outputs": [],
   "source": [
    "total_usage = data.copy()\n",
    "last_timestamp = timedelta(seconds=0)\n",
    "last_app_name = \"x\"\n",
    "total_delta = timedelta(seconds=0)\n",
    "\n",
    "\n",
    "def sum_times(row):\n",
    "    global last_timestamp, last_app_name, total_delta\n",
    "    if (str(last_timestamp) == \"0:00:00\") or (row[\"app_name\"] != last_app_name):\n",
    "        last_timestamp = row[\"timestamp\"]\n",
    "        last_app_name = row[\"app_name\"]\n",
    "        total_delta = timedelta(seconds=0)\n",
    "        return timedelta(seconds=0)\n",
    "\n",
    "    elif (row[\"timestamp\"] - last_timestamp) < timedelta(seconds=40):\n",
    "        delta = row[\"timestamp\"] - last_timestamp\n",
    "        total_delta += delta\n",
    "        return total_delta\n",
    "\n",
    "    else:\n",
    "        last_timestamp = row[\"timestamp\"]\n",
    "        return total_delta\n",
    "\n",
    "\n",
    "total_usage[\"daily_usage\"] = data.apply(sum_times, axis=1)\n",
    "# total_usage.head(5)\n",
    "\n",
    "total_usage = (\n",
    "    total_usage.groupby(\"app_name\")[\"daily_usage\"].max().sort_values(ascending=False)\n",
    ")\n",
    "total_usage.head(5)\n",
    "total_usage = total_usage.to_frame()\n",
    "total_usage = total_usage.reset_index()"
   ]
  },
  {
   "cell_type": "code",
   "execution_count": 5,
   "metadata": {},
   "outputs": [],
   "source": [
    "import matplotlib.pyplot as plt\n",
    "import numpy as np\n"
   ]
  },
  {
   "cell_type": "code",
   "execution_count": 16,
   "metadata": {},
   "outputs": [
    {
     "data": {
      "text/html": [
       "<div>\n",
       "<style scoped>\n",
       "    .dataframe tbody tr th:only-of-type {\n",
       "        vertical-align: middle;\n",
       "    }\n",
       "\n",
       "    .dataframe tbody tr th {\n",
       "        vertical-align: top;\n",
       "    }\n",
       "\n",
       "    .dataframe thead th {\n",
       "        text-align: right;\n",
       "    }\n",
       "</style>\n",
       "<table border=\"1\" class=\"dataframe\">\n",
       "  <thead>\n",
       "    <tr style=\"text-align: right;\">\n",
       "      <th></th>\n",
       "      <th>app_name</th>\n",
       "      <th>daily_usage</th>\n",
       "    </tr>\n",
       "  </thead>\n",
       "  <tbody>\n",
       "    <tr>\n",
       "      <th>0</th>\n",
       "      <td>Mozilla Firefox</td>\n",
       "      <td>3.918056</td>\n",
       "    </tr>\n",
       "    <tr>\n",
       "      <th>1</th>\n",
       "      <td>Visual Studio Code</td>\n",
       "      <td>2.951944</td>\n",
       "    </tr>\n",
       "    <tr>\n",
       "      <th>2</th>\n",
       "      <td>tk</td>\n",
       "      <td>0.173889</td>\n",
       "    </tr>\n",
       "    <tr>\n",
       "      <th>3</th>\n",
       "      <td>Untitled</td>\n",
       "      <td>0.058611</td>\n",
       "    </tr>\n",
       "    <tr>\n",
       "      <th>4</th>\n",
       "      <td>Python Dados</td>\n",
       "      <td>0.050278</td>\n",
       "    </tr>\n",
       "    <tr>\n",
       "      <th>...</th>\n",
       "      <td>...</td>\n",
       "      <td>...</td>\n",
       "    </tr>\n",
       "    <tr>\n",
       "      <th>61</th>\n",
       "      <td>Live at the Royal Albert Hall</td>\n",
       "      <td>0.000000</td>\n",
       "    </tr>\n",
       "    <tr>\n",
       "      <th>62</th>\n",
       "      <td>Modulo 3</td>\n",
       "      <td>0.000000</td>\n",
       "    </tr>\n",
       "    <tr>\n",
       "      <th>63</th>\n",
       "      <td>Modulo 5</td>\n",
       "      <td>0.000000</td>\n",
       "    </tr>\n",
       "    <tr>\n",
       "      <th>64</th>\n",
       "      <td>1,275 items recycled</td>\n",
       "      <td>0.000000</td>\n",
       "    </tr>\n",
       "    <tr>\n",
       "      <th>65</th>\n",
       "      <td>ttkthemes</td>\n",
       "      <td>0.000000</td>\n",
       "    </tr>\n",
       "  </tbody>\n",
       "</table>\n",
       "<p>66 rows × 2 columns</p>\n",
       "</div>"
      ],
      "text/plain": [
       "                         app_name  daily_usage\n",
       "0                 Mozilla Firefox     3.918056\n",
       "1              Visual Studio Code     2.951944\n",
       "2                              tk     0.173889\n",
       "3                        Untitled     0.058611\n",
       "4                    Python Dados     0.050278\n",
       "..                            ...          ...\n",
       "61  Live at the Royal Albert Hall     0.000000\n",
       "62                       Modulo 3     0.000000\n",
       "63                       Modulo 5     0.000000\n",
       "64           1,275 items recycled     0.000000\n",
       "65                      ttkthemes     0.000000\n",
       "\n",
       "[66 rows x 2 columns]"
      ]
     },
     "execution_count": 16,
     "metadata": {},
     "output_type": "execute_result"
    }
   ],
   "source": [
    "\n",
    "total_usage['daily_usage'] = (total_usage['daily_usage'] / np.timedelta64(1, 'h'))\n",
    "# total_usage.to_csv('usage_time.csv')\n",
    "total_usage\n"
   ]
  },
  {
   "cell_type": "code",
   "execution_count": null,
   "metadata": {},
   "outputs": [
    {
     "name": "stdout",
     "output_type": "stream",
     "text": [
      "Index(['Mozilla Firefox', 'Visual Studio Code', 'tk', 'Untitled',\n",
      "       'Python Dados'],\n",
      "      dtype='object', name='app_name')\n",
      "[[3.91805556]\n",
      " [2.95194444]\n",
      " [0.17388889]\n",
      " [0.05861111]\n",
      " [0.05027778]]\n"
     ]
    },
    {
     "data": {
      "text/plain": [
       "<BarContainer object of 5 artists>"
      ]
     },
     "execution_count": 13,
     "metadata": {},
     "output_type": "execute_result"
    },
    {
     "data": {
      "image/png": "[encoded data removed]",
      "text/plain": [
       "<Figure size 640x480 with 1 Axes>"
      ]
     },
     "metadata": {},
     "output_type": "display_data"
    }
   ],
   "source": [
    "print(total_usage.index)\n",
    "print(total_usage.values)\n",
    "values_to_plot = total_usage.values[:, 0]\n",
    "\n",
    "fig, ax = plt.subplots()\n",
    "ax.bar(total_usage.index, values_to_plot)"
   ]
  },
  {
   "cell_type": "code",
   "execution_count": null,
   "metadata": {},
   "outputs": [],
   "source": [
    "import os"
   ]
  },
  {
   "cell_type": "code",
   "execution_count": null,
   "metadata": {},
   "outputs": [
    {
     "data": {
      "text/plain": [
       "['2023-11-03.csv',\n",
       " '2023-11-04.csv',\n",
       " '2023-11-05.csv',\n",
       " '2023-11-06.csv',\n",
       " 'usage_time.csv']"
      ]
     },
     "execution_count": 15,
     "metadata": {},
     "output_type": "execute_result"
    }
   ],
   "source": [
    "files = os.listdir()\n",
    "filtered = [file for file in files if file.endswith('.csv')]\n",
    "filtered"
   ]
  },
  {
   "cell_type": "code",
   "execution_count": null,
   "metadata": {},
   "outputs": [
    {
     "name": "stdout",
     "output_type": "stream",
     "text": [
      "e:\\DEV\\Python\\PyWindows\\logs\\usage_time.csv\n"
     ]
    }
   ],
   "source": [
    "filename = 'usage_time.csv'\n",
    "print(f'{os.getcwd()}\\{filename}')"
   ]
  }
 ],
 "metadata": {
  "kernelspec": {
   "display_name": "Python 3",
   "language": "python",
   "name": "python3"
  },
  "language_info": {
   "codemirror_mode": {
    "name": "ipython",
    "version": 3
   },
   "file_extension": ".py",
   "mimetype": "text/x-python",
   "name": "python",
   "nbconvert_exporter": "python",
   "pygments_lexer": "ipython3",
   "version": "3.11.6"
  }
 },
 "nbformat": 4,
 "nbformat_minor": 2
}
