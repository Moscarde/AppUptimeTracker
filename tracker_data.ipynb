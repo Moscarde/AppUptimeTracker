{
 "cells": [
  {
   "cell_type": "code",
   "execution_count": 2,
   "metadata": {},
   "outputs": [],
   "source": [
    "import time\n",
    "from datetime import datetime, timedelta\n",
    "import pyautogui\n",
    "import pygetwindow as gw\n",
    "from icecream import ic\n",
    "\n",
    "\n",
    "# load from config.json\n",
    "tick_seconds = 0.5\n",
    "tick_round = tick_seconds * 10\n",
    "max_inactive_time = 600\n",
    "console_log = 1\n",
    "\n",
    "inactive_time = 0\n",
    "previous_mouse_pos = [0, 0]\n",
    "\n",
    "line_separator = \"  <~~>  \"\n",
    "data_separator = (\n",
    "    \"<~~~~~~~~~~~~~~~~~~~~~~~~ Usage time - Specific ~~~~~~~~~~~~~~~~~~~~~~~~>\"\n",
    ")\n",
    "base_data = \"\"\"<~~~~~~~~~~~~~~~~~~~~~~~~~~~ Usage time - Sum ~~~~~~~~~~~~~~~~~~~~~~~~~~>\n",
    "\n",
    "<~~~~~~~~~~~~~~~~~~~~~~~~ Usage time - Specific ~~~~~~~~~~~~~~~~~~~~~~~~>\n",
    "\"\"\""
   ]
  },
  {
   "cell_type": "code",
   "execution_count": 3,
   "metadata": {},
   "outputs": [],
   "source": [
    "def is_active():\n",
    "    global previous_mouse_pos, inactive_time\n",
    "    mouse_pos = list(pyautogui.position())\n",
    "\n",
    "    if mouse_pos == previous_mouse_pos:\n",
    "        if inactive_time > max_inactive_time:\n",
    "            inactive_time += tick_seconds\n",
    "            ic(inactive_time)\n",
    "            return False\n",
    "        else:\n",
    "            inactive_time += tick_seconds\n",
    "            return True\n",
    "    else:\n",
    "        previous_mouse_pos = mouse_pos\n",
    "        inactive_time = 0\n",
    "        return True"
   ]
  },
  {
   "cell_type": "code",
   "execution_count": null,
   "metadata": {},
   "outputs": [],
   "source": [
    "#"
   ]
  },
  {
   "cell_type": "code",
   "execution_count": 42,
   "metadata": {},
   "outputs": [],
   "source": [
    "# main\n",
    "janelas = []\n",
    "\n",
    "\n",
    "def main():\n",
    "    # load_configs()\n",
    "    tick_seconds = 0.5\n",
    "    tick_round = tick_seconds * 10\n",
    "\n",
    "    print(\"Starting Tracker -  Press Ctrl + C or close this window to stop tracking!\")\n",
    "\n",
    "    while True:\n",
    "        # loop curto\n",
    "        data_windows = []\n",
    "        for ticks in range(int(tick_round / tick_seconds)):\n",
    "            active_window = gw.getActiveWindowTitle()\n",
    "\n",
    "            if is_active() and check_window(active_window):\n",
    "                if not active_window in data_windows:\n",
    "                    data_windows.append(active_window)\n",
    "\n",
    "            time.sleep(tick_seconds)\n",
    "\n",
    "        # ic(\"salvando janelas lista\", data_windows)\n",
    "        log_windows_list(data_windows)\n"
   ]
  },
  {
   "cell_type": "code",
   "execution_count": 52,
   "metadata": {},
   "outputs": [],
   "source": [
    "def check_window(window):\n",
    "    if window != None and window != \"\":\n",
    "        return True\n",
    "    \n",
    "def log_windows_list(data):\n",
    "    datetime_ = str(datetime.now()).split('.')[0]\n",
    "    for window in data:\n",
    "        #...\n",
    "        row = [datetime_, window]\n",
    "        write_csv(row)\n",
    "    \n",
    "\n",
    "\n",
    "\n",
    "# def process(window):\n",
    "#     active_window = gw.getActiveWindowTitle()\n",
    "#     if active_window != None and active_window != \"\":\n",
    "#         process(active_window, round_)\n",
    "\n",
    "#     if round_ == 0:\n",
    "#         janelas = []\n",
    "\n",
    "#     janelas.append(window)\n",
    "\n",
    "#     return"
   ]
  },
  {
   "cell_type": "code",
   "execution_count": 53,
   "metadata": {},
   "outputs": [
    {
     "name": "stdout",
     "output_type": "stream",
     "text": [
      "Starting Tracker -  Press Ctrl + C or close this window to stop tracking!\n",
      "Nova linha adicionada ao arquivo CSV.\n",
      "Nova linha adicionada ao arquivo CSV.\n",
      "Nova linha adicionada ao arquivo CSV.\n",
      "Nova linha adicionada ao arquivo CSV.\n",
      "Nova linha adicionada ao arquivo CSV.\n",
      "Nova linha adicionada ao arquivo CSV.\n"
     ]
    },
    {
     "ename": "KeyboardInterrupt",
     "evalue": "",
     "output_type": "error",
     "traceback": [
      "\u001b[1;31m---------------------------------------------------------------------------\u001b[0m",
      "\u001b[1;31mKeyboardInterrupt\u001b[0m                         Traceback (most recent call last)",
      "\u001b[1;32md:\\Documentos\\Programação - Estudos\\python\\PyWindows\\tracker_data.ipynb Célula 6\u001b[0m line \u001b[0;36m1\n\u001b[1;32m----> <a href='vscode-notebook-cell:/d%3A/Documentos/Programa%C3%A7%C3%A3o%20-%20Estudos/python/PyWindows/tracker_data.ipynb#W5sZmlsZQ%3D%3D?line=0'>1</a>\u001b[0m main()\n",
      "\u001b[1;32md:\\Documentos\\Programação - Estudos\\python\\PyWindows\\tracker_data.ipynb Célula 6\u001b[0m line \u001b[0;36m2\n\u001b[0;32m     <a href='vscode-notebook-cell:/d%3A/Documentos/Programa%C3%A7%C3%A3o%20-%20Estudos/python/PyWindows/tracker_data.ipynb#W5sZmlsZQ%3D%3D?line=18'>19</a>\u001b[0m         \u001b[39mif\u001b[39;00m \u001b[39mnot\u001b[39;00m active_window \u001b[39min\u001b[39;00m data_windows:\n\u001b[0;32m     <a href='vscode-notebook-cell:/d%3A/Documentos/Programa%C3%A7%C3%A3o%20-%20Estudos/python/PyWindows/tracker_data.ipynb#W5sZmlsZQ%3D%3D?line=19'>20</a>\u001b[0m             data_windows\u001b[39m.\u001b[39mappend(active_window)\n\u001b[1;32m---> <a href='vscode-notebook-cell:/d%3A/Documentos/Programa%C3%A7%C3%A3o%20-%20Estudos/python/PyWindows/tracker_data.ipynb#W5sZmlsZQ%3D%3D?line=21'>22</a>\u001b[0m     time\u001b[39m.\u001b[39msleep(tick_seconds)\n\u001b[0;32m     <a href='vscode-notebook-cell:/d%3A/Documentos/Programa%C3%A7%C3%A3o%20-%20Estudos/python/PyWindows/tracker_data.ipynb#W5sZmlsZQ%3D%3D?line=23'>24</a>\u001b[0m \u001b[39m# ic(\"salvando janelas lista\", data_windows)\u001b[39;00m\n\u001b[0;32m     <a href='vscode-notebook-cell:/d%3A/Documentos/Programa%C3%A7%C3%A3o%20-%20Estudos/python/PyWindows/tracker_data.ipynb#W5sZmlsZQ%3D%3D?line=24'>25</a>\u001b[0m log_windows_list(data_windows)\n",
      "\u001b[1;31mKeyboardInterrupt\u001b[0m: "
     ]
    }
   ],
   "source": [
    "main()"
   ]
  },
  {
   "cell_type": "code",
   "execution_count": 51,
   "metadata": {},
   "outputs": [],
   "source": [
    "import csv\n",
    "\n",
    "# Dados da nova linha que você deseja adicionar ao CSV\n",
    "nova_linha = [\"2023-11-03 10:29:41\", \"tracker_data.ipynb - PyWindows - Visual Studio Code\"]\n",
    "\n",
    "# Caminho para o arquivo CSV existente\n",
    "caminho_csv = \"seuarquivo.csv\"\n",
    "\n",
    "# Abra o arquivo CSV existente no modo de escrita\n",
    "# Use 'a' (append) para adicionar dados ao arquivo, se ele já existir\n",
    "# Use 'w' (write) se você quiser substituir o conteúdo existente\n",
    "def write_csv(log):\n",
    "    with open(caminho_csv, mode='a', newline='') as arquivo_csv:\n",
    "        escritor_csv = csv.writer(arquivo_csv)\n",
    "        \n",
    "        # Escreva a nova linha no arquivo CSV\n",
    "        escritor_csv.writerow(log)\n",
    "\n",
    "    print(\"Nova linha adicionada ao arquivo CSV.\")"
   ]
  }
 ],
 "metadata": {
  "kernelspec": {
   "display_name": "Python 3",
   "language": "python",
   "name": "python3"
  },
  "language_info": {
   "codemirror_mode": {
    "name": "ipython",
    "version": 3
   },
   "file_extension": ".py",
   "mimetype": "text/x-python",
   "name": "python",
   "nbconvert_exporter": "python",
   "pygments_lexer": "ipython3",
   "version": "3.11.6"
  }
 },
 "nbformat": 4,
 "nbformat_minor": 2
}
